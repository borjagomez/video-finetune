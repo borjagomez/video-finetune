{
  "cells": [
    {
      "cell_type": "markdown",
      "metadata": {
        "id": "intro"
      },
      "source": [
        "# Colab Inference (Text to Video + Screenshots)\n",
        "\n",
        "Generates a video from a prompt using your base model + LoRA weights. You can specify when to show screenshots either via prompt tags or a beats JSON."
      ]
    },
    {
      "cell_type": "markdown",
      "metadata": {
        "id": "mount"
      },
      "source": [
        "## Mount Drive"
      ]
    },
    {
      "cell_type": "code",
      "execution_count": null,
      "metadata": {
        "id": "mount-drive"
      },
      "outputs": [],
      "source": [
        "from google.colab import drive\n",
        "drive.mount('/content/drive')\n"
      ]
    },
    {
      "cell_type": "markdown",
      "metadata": {
        "id": "clone"
      },
      "source": [
        "## Clone repo (video-finetune)"
      ]
    },
    {
      "cell_type": "code",
      "execution_count": null,
      "metadata": {
        "id": "clone-repo"
      },
      "outputs": [],
      "source": [
        "%%bash\n",
        "set -euo pipefail\n",
        "if [ -d /content/video-finetune ]; then\n",
        "  echo 'Repo exists, pulling latest...'\n",
        "  cd /content/video-finetune && git pull --ff-only || true\n",
        "else\n",
        "  git clone https://github.com/borjagomez/video-finetune.git /content/video-finetune\n",
        "fi\n",
        "ls -la /content/video-finetune | head -n 20\n"
      ]
    },
    {
      "cell_type": "code",
      "execution_count": null,
      "metadata": {
        "id": "set-cwd"
      },
      "outputs": [],
      "source": [
        "import os, sys\n",
        "os.chdir('/content/video-finetune')\n",
        "print('CWD:', os.getcwd())\n"
      ]
    },
    {
      "cell_type": "markdown",
      "metadata": {
        "id": "paths"
      },
      "source": [
        "## Paths & Inputs"
      ]
    },
    {
      "cell_type": "code",
      "execution_count": null,
      "metadata": {
        "id": "set-paths"
      },
      "outputs": [],
      "source": [
        "from pathlib import Path\n",
        "MOUNT = Path('/content/drive') / 'My Drive'\n",
        "MODEL_DIR = MOUNT / 'HunyuanVideo-diffusers'\n",
        "LORA_WEIGHTS = MOUNT / 'outputs' / 'lora' / 'lora_weights.pt'\n",
        "SCREENSHOTS_DIR = MOUNT / 'screenshots'  # put reference screenshots here\n",
        "BEATS_JSON = MOUNT / 'outputs' / 'inference' / 'beats.json'\n",
        "OUT_MP4 = MOUNT / 'outputs' / 'inference' / 'generated.mp4'\n",
        "# Story prompt with inline SHOT tags (timed inserts)\n",
        "PROMPT = \"\"\"A clear, friendly walkthrough of the product dashboard showing key sections.\n",
        "[SHOT at=2.0 file=login.png dur=2.0]\n",
        "Then highlight the dashboard charts and filters.\n",
        "[SHOT time=6.5 screenshot=/content/drive/My Drive/screenshots/dashboard.png duration=2s]\n",
        "\"\"\"\n",
        "print('Model dir:', MODEL_DIR)\n",
        "print('LoRA weights:', LORA_WEIGHTS)\n",
        "print('Screenshots dir:', SCREENSHOTS_DIR)\n",
        "print('Beats JSON:', BEATS_JSON)\n",
        "print('Output path:', OUT_MP4)\n"
      ]
    },
    {
      "cell_type": "markdown",
      "metadata": {
        "id": "beats"
      },
      "source": [
        "## Option B: Beats JSON (alternative)\n",
        "If you already have a beats JSON, place it at the path below; otherwise rely on prompt tags."
      ]
    },
    {
      "cell_type": "code",
      "execution_count": null,
      "metadata": {
        "id": "write-beats"
      },
      "outputs": [],
      "source": [
        "from pathlib import Path\n",
        "print('Beats JSON exists:', BEATS_JSON.exists(), '->', BEATS_JSON)\n"
      ]
    },
    {
      "cell_type": "markdown",
      "metadata": {
        "id": "install"
      },
      "source": [
        "## Install deps"
      ]
    },
    {
      "cell_type": "markdown",
      "metadata": {
        "id": "sysdeps"
      },
      "source": [
        "## System deps (ffmpeg)"
      ]
    },
    {
      "cell_type": "code",
      "execution_count": null,
      "metadata": {
        "id": "apt-ffmpeg"
      },
      "outputs": [],
      "source": [
        "%%bash\n",
        "set -euo pipefail\n",
        "apt-get -y update >/dev/null 2>&1 || true\n",
        "apt-get -y install ffmpeg >/dev/null 2>&1 || true\n",
        "ffmpeg -version | head -n1\n"
      ]
    },
    {
      "cell_type": "code",
      "execution_count": null,
      "metadata": {
        "id": "pip"
      },
      "outputs": [],
      "source": [
        "%%bash\n",
        "set -euo pipefail\n",
        "python -V\n",
        "pip install -U pip setuptools wheel >/dev/null 2>&1 || true\n",
        "if [ -f requirements.txt ]; then\n",
        "  pip install -r requirements.txt\n",
        "else\n",
        "  pip install 'diffusers>=0.30' 'transformers>=4.43' 'accelerate>=0.30' safetensors Pillow imageio-ffmpeg\n",
        "fi\n"
      ]
    },
    {
      "cell_type": "markdown",
      "metadata": {
        "id": "verify"
      },
      "source": [
        "## Sanity checks"
      ]
    },
    {
      "cell_type": "code",
      "execution_count": null,
      "metadata": {
        "id": "checks"
      },
      "outputs": [],
      "source": [
        "from pathlib import Path\n",
        "assert Path('tools/generate_video.py').exists(), 'Run this notebook from the repo root.'\n",
        "print('Model folder exists:', MODEL_DIR.exists())\n",
        "print('LoRA file exists:', LORA_WEIGHTS.exists())\n",
        "print('Will glob screenshots from:', str(SCREENSHOTS_DIR / '*'))\n"
      ]
    },
    {
      "cell_type": "markdown",
      "metadata": {
        "id": "run"
      },
      "source": [
        "## Generate video"
      ]
    },
    {
      "cell_type": "markdown",
      "metadata": {
        "id": "mem"
      },
      "source": [
        "## Memory saver (optional)"
      ]
    },
    {
      "cell_type": "code",
      "execution_count": null,
      "metadata": {
        "id": "mem-setup"
      },
      "outputs": [],
      "source": [
        "import os, gc, torch\n",
        "os.environ['PYTORCH_CUDA_ALLOC_CONF']='expandable_segments:True'\n",
        "print('PYTORCH_CUDA_ALLOC_CONF=', os.environ['PYTORCH_CUDA_ALLOC_CONF'])\n",
        "if torch.cuda.is_available():\n",
        "    torch.cuda.empty_cache()\n",
        "gc.collect()\n"
      ]
    },
    {
      "cell_type": "code",
      "execution_count": null,
      "metadata": {
        "id": "gen"
      },
      "outputs": [],
      "source": [
        "import subprocess\n",
        "from pathlib import Path as _P\n",
        "OUT_MP4.parent.mkdir(parents=True, exist_ok=True)\n",
        "args = [\n",
        "  'python','tools/generate_video.py',\n",
        "  '--model_dir', str(MODEL_DIR),\n",
        "  '--lora_weights', str(LORA_WEIGHTS),\n",
        "  '--prompt', PROMPT,\n",
        "  '--out', str(OUT_MP4),\n",
        "  '--width','256','--height','256',\n",
        "  '--num_frames','24','--fps','24','--steps','20','--guidance','1.0',\n",
        "  '--screenshot_duration','1.5',\n",
        "  '--beats_from_prompt',\n",
        "  '--shots_base_dir', str(SCREENSHOTS_DIR),\n",
        "]\n",
        "# If a beats JSON exists, prefer it over prompt tags\n",
        "if _P(BEATS_JSON).exists():\n",
        "    args += ['--beats', str(BEATS_JSON)]\n",
        "print('Running:', ' '.join(args))\n",
        "try:\n",
        "    res = subprocess.run(args, check=True, capture_output=True, text=True)\n",
        "    print(res.stdout)\n",
        "except subprocess.CalledProcessError as e:\n",
        "    print('Command failed with exit code', e.returncode)\n",
        "    print('--- STDOUT ---')\n",
        "    print(e.stdout)\n",
        "    print('--- STDERR ---')\n",
        "    print(e.stderr)\n",
        "    raise\n"
      ]
    },
    {
      "cell_type": "markdown",
      "metadata": {
        "id": "done"
      },
      "source": [
        "## Output\nThe generated video is at the `Output path` above. If beats were provided or parsed from the prompt, a `_with_beats.mp4` version includes the integrated screenshots."
      ]
    }
  ],
  "metadata": {
    "colab": {
      "name": "Colab Inference",
      "provenance": []
    },
    "kernelspec": {
      "name": "python3",
      "display_name": "Python 3"
    }
  },
  "nbformat": 4,
  "nbformat_minor": 5
}
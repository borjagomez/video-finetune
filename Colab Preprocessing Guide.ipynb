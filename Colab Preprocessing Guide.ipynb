{
  "cells": [
    {
      "cell_type": "markdown",
      "metadata": {"id": "intro"},
      "source": [
        "# Colab Preprocessing Guide\n",
        "\n",
        "This notebook standardizes your videos for fine-tuning (H.264/AAC, YUV420p, target 1080p short-side, optional 30fps) and can optionally extract frames.\n",
        "\n",
        "Requirements: Colab runtime with internet (for apt) and your `.mp4` files."
      ]
    },
    {
      "cell_type": "markdown",
      "metadata": {"id": "setup"},
      "source": [
        "## Setup"
      ]
    },
    {
      "cell_type": "code",
      "execution_count": null,
      "metadata": {"id": "install-ffmpeg"},
      "outputs": [],
      "source": [
        "%%bash\n",
        "set -euo pipefail\n",
        "apt-get -y update >/dev/null 2>&1 || true\n",
        "apt-get -y install ffmpeg >/dev/null 2>&1 || true\n",
        "ffmpeg -version | head -n 1"
      ]
    },
    {
      "cell_type": "markdown",
      "metadata": {"id": "mount"},
      "source": [
        "## Mount Drive\n",
        "Mount Google Drive; this notebook expects inputs in `/content/drive/My Drive/videos_finetune`."
      ]
    },
    {
      "cell_type": "code",
      "execution_count": null,
      "metadata": {"id": "mount-drive"},
      "outputs": [],
      "source": [
        "from google.colab import drive\n",
        "drive.mount('/content/drive')"
      ]
    },
    {
      "cell_type": "markdown",
      "metadata": {"id": "paths"},
      "source": [
        "## Prepare workspace paths"
      ]
    },
    {
      "cell_type": "code",
      "execution_count": null,
      "metadata": {"id": "prepare-paths"},
      "outputs": [],
      "source": [
        "from pathlib import Path\n",
        "MOUNT = Path('/content/drive') / 'My Drive'\n",
        "INPUT_DIR = MOUNT / 'videos_finetune'\n",
        "# Outputs on Drive to persist between sessions\n",
        "OUTPUT_DIR = MOUNT / 'data' / 'videos_baseline'\n",
        "OUTPUT_DIR.mkdir(parents=True, exist_ok=True)\n",
        "# Optional: path to your diffusers repo on Drive\n",
        "DIFFUSERS_DIR = MOUNT / 'HunyuanVideo-diffusers'\n",
        "print('Input dir:', INPUT_DIR)\n",
        "print('Output dir:', OUTPUT_DIR)\n",
        "print('Diffusers dir:', DIFFUSERS_DIR)"
      ]
    },
    {
      "cell_type": "markdown",
      "metadata": {"id": "upload"},
      "source": [
        "## Locate your `.mp4` files on Drive\n",
        "This notebook reads from `/content/drive/My Drive/videos_finetune`."
      ]
    },
    {
      "cell_type": "code",
      "execution_count": null,
      "metadata": {"id": "copy-from-drive"},
      "outputs": [],
      "source": [
        "%%bash\n",
        "set -euo pipefail\n",
        "echo 'Listing Drive location:'\n",
        "ls -lh "/content/drive/My Drive/videos_finetune" 2>/dev/null || true"
      ]
    },
    {
      "cell_type": "markdown",
      "metadata": {"id": "script-check"},
      "source": [
        "## Verify preprocessing script is available\n",
        "This notebook expects the project repo files present so it can run `tools/preprocess_videos.py`. If not present, upload the `tools/` folder or clone the repo into `/content`."
      ]
    },
    {
      "cell_type": "code",
      "execution_count": null,
      "metadata": {"id": "check-script"},
      "outputs": [],
      "source": [
        "from pathlib import Path\n",
        "script = Path('tools/preprocess_videos.py')\n",
        "print('Found script at:', script.resolve() if script.exists() else 'NOT FOUND')\n",
        "# If NOT FOUND, upload the script or clone the repo, e.g.:\n",
        "# !git clone https://github.com/<you>/<repo>.git /content/repo && cd /content/repo\n",
        "# then open this notebook from that folder or adjust paths."
      ]
    },
    {
      "cell_type": "markdown",
      "metadata": {"id": "run-preproc"},
      "source": [
        "## Run preprocessing (1080p, 30fps)\n",
        "Outputs go to `/content/drive/My Drive/data/videos_baseline` and a manifest to `/content/drive/My Drive/data/videos_manifest.jsonl`."
      ]
    },
    {
      "cell_type": "code",
      "execution_count": null,
      "metadata": {"id": "preprocess"},
      "outputs": [],
      "source": [
        "from pathlib import Path\n",
        "import subprocess\n",
        "args = [\n",
        "    'python','tools/preprocess_videos.py',\n",
        "    '--input_dir', str(INPUT_DIR),\n",
        "    '--output_dir', str(OUTPUT_DIR),\n",
        "    '--target_height','1080',\n",
        "    '--fps','30',\n",
        "    '--compute_checksums'\n",
        "]\n",
        "print('Running:', ' '.join(args))\n",
        "subprocess.run(args, check=True)"
      ]
    },
    {
      "cell_type": "markdown",
      "metadata": {"id": "verify"},
      "source": [
        "## Verify one output file"
      ]
    },
    {
      "cell_type": "code",
      "execution_count": null,
      "metadata": {"id": "ffprobe-verify"},
      "outputs": [],
      "source": [
        "from pathlib import Path\n",
        "import subprocess\n",
        "vids = sorted(Path(OUTPUT_DIR).glob('*.mp4'))\n",
        "print('Found outputs:', len(vids))\n",
        "if vids:\n",
        "    first = str(vids[0])\n",
        "    print('Video:', first)\n",
        "    subprocess.run(['ffprobe','-v','error','-show_streams','-select_streams','v:0', first])\n",
        "else:\n",
        "    print('No outputs found.')\n"
      ]
    },
    {
      "cell_type": "markdown",
      "metadata": {"id": "frames"},
      "source": [
        "## Optional: Extract frames for training\n",
        "Creates a frames dataset (`/content/drive/data/frames/<video_stem>/*.jpg`) and a manifest at `/content/drive/data/dataset.jsonl`."
      ]
    },
    {
      "cell_type": "code",
      "execution_count": null,
      "metadata": {"id": "extract-frames"},
      "outputs": [],
      "source": [
        "from pathlib import Path\n",
        "import subprocess\n",
        "FRAMES_DIR = MOUNT / 'data' / 'frames'\n",
        "FRAMES_DIR.mkdir(parents=True, exist_ok=True)\n",
        "args = [\n",
        "    'python','scripts/prepare_dataset.py',\n",
        "    '--videos_dir', str(OUTPUT_DIR),\n",
        "    '--out_dir', str(FRAMES_DIR),\n",
        "    '--fps','2','--size','384'\n",
        "]\n",
        "print('Running:', ' '.join(args))\n",
        "subprocess.run(args, check=True)\n"
      ]
    },
    {
      "cell_type": "markdown",
      "metadata": {"id": "notes"},
      "source": [
        "## Notes\n",
        "- The preprocessing script uses H.264 (libx264), AAC audio (or `-an` if no audio), yuv420p, and `+faststart`.\n",
        "- Adjust `--target_height`, `--fps`, and `--crf` as needed.\n",
        "- If the `tools/` or `scripts/` paths are not found, ensure you opened this notebook from the project root or adjust paths accordingly."
      ]
    }
  ],
  "metadata": {
    "colab": {"name": "Colab Preprocessing Guide", "provenance": []},
    "kernelspec": {"name": "python3", "display_name": "Python 3"}
  },
  "nbformat": 4,
  "nbformat_minor": 5
}

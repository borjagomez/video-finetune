{
  "cells": [
    {
      "cell_type": "markdown",
      "metadata": {"id": "intro"},
      "source": [
        "# Colab Preprocessing Guide\n",
        "\n",
        "This notebook standardizes your videos for fine-tuning (H.264/AAC, YUV420p, target 1080p short-side, optional 30fps) and can optionally extract frames.\n",
        "\n",
        "Requirements: Colab runtime with internet (for apt) and your `.mp4` files."
      ]
    },
    {
      "cell_type": "markdown",
      "metadata": {"id": "setup"},
      "source": [
        "## Setup"
      ]
    },
    {
      "cell_type": "code",
      "execution_count": null,
      "metadata": {"id": "install-ffmpeg"},
      "outputs": [],
      "source": [
        "%%bash\n",
        "set -euo pipefail\n",
        "apt-get -y update >/dev/null 2>&1 || true\n",
        "apt-get -y install ffmpeg >/dev/null 2>&1 || true\n",
        "ffmpeg -version | head -n 1"
      ]
    },
    {
      "cell_type": "markdown",
      "metadata": {"id": "mount"},
      "source": [
        "## Mount Drive (optional)\n",
        "Use this if your videos are in Google Drive."
      ]
    },
    {
      "cell_type": "code",
      "execution_count": null,
      "metadata": {"id": "mount-drive"},
      "outputs": [],
      "source": [
        "from google.colab import drive\n",
        "drive.mount('/content/drive')"
      ]
    },
    {
      "cell_type": "markdown",
      "metadata": {"id": "paths"},
      "source": [
        "## Prepare workspace paths"
      ]
    },
    {
      "cell_type": "code",
      "execution_count": null,
      "metadata": {"id": "prepare-paths"},
      "outputs": [],
      "source": [
        "from pathlib import Path\n",
        "WORKDIR = Path('/content')\n",
        "INPUT_DIR = WORKDIR / 'videos_finetune'\n",
        "OUTPUT_DIR = WORKDIR / 'data' / 'videos_baseline'\n",
        "INPUT_DIR.mkdir(parents=True, exist_ok=True)\n",
        "OUTPUT_DIR.mkdir(parents=True, exist_ok=True)\n",
        "print('Input dir:', INPUT_DIR)\n",
        "print('Output dir:', OUTPUT_DIR)"
      ]
    },
    {
      "cell_type": "markdown",
      "metadata": {"id": "upload"},
      "source": [
        "## Upload or copy your `.mp4` files\n",
        "Upload via the Colab file browser into `/content/videos_finetune`, or copy from Drive (example below)."
      ]
    },
    {
      "cell_type": "code",
      "execution_count": null,
      "metadata": {"id": "copy-from-drive"},
      "outputs": [],
      "source": [
        "%%bash\n",
        "set -euo pipefail\n",
        "echo 'Place your MP4s into /content/videos_finetune or edit and run the copy example below:'\n",
        "# cp -v /content/drive/MyDrive/path/to/your_videos/*.mp4 /content/videos_finetune/ || true\n",
        "ls -lh /content/videos_finetune || true"
      ]
    },
    {
      "cell_type": "markdown",
      "metadata": {"id": "script-check"},
      "source": [
        "## Verify preprocessing script is available\n",
        "This notebook expects the project repo files present so it can run `tools/preprocess_videos.py`. If not present, upload the `tools/` folder or clone the repo into `/content`."
      ]
    },
    {
      "cell_type": "code",
      "execution_count": null,
      "metadata": {"id": "check-script"},
      "outputs": [],
      "source": [
        "from pathlib import Path\n",
        "script = Path('tools/preprocess_videos.py')\n",
        "print('Found script at:', script.resolve() if script.exists() else 'NOT FOUND')\n",
        "# If NOT FOUND, upload the script or clone the repo, e.g.:\n",
        "# !git clone https://github.com/<you>/<repo>.git /content/repo && cd /content/repo\n",
        "# then open this notebook from that folder or adjust paths."
      ]
    },
    {
      "cell_type": "markdown",
      "metadata": {"id": "run-preproc"},
      "source": [
        "## Run preprocessing (1080p, 30fps)\n",
        "Outputs go to `/content/data/videos_baseline` and a manifest to `/content/data/videos_manifest.jsonl`."
      ]
    },
    {
      "cell_type": "code",
      "execution_count": null,
      "metadata": {"id": "preprocess"},
      "outputs": [],
      "source": [
        "%%bash\n",
        "set -euo pipefail\n",
        "python tools/preprocess_videos.py \\\n",
        "  --input_dir '/content/videos_finetune' \\\n",
        "  --output_dir '/content/data/videos_baseline' \\\n",
        "  --target_height 1080 \\\n",
        "  --fps 30 \\\n",
        "  --compute_checksums"
      ]
    },
    {
      "cell_type": "markdown",
      "metadata": {"id": "verify"},
      "source": [
        "## Verify one output file"
      ]
    },
    {
      "cell_type": "code",
      "execution_count": null,
      "metadata": {"id": "ffprobe-verify"},
      "outputs": [],
      "source": [
        "%%bash\n",
        "set -euo pipefail\n",
        "VID=$(ls -1 /content/data/videos_baseline/*.mp4 2>/dev/null | head -n1 || true)\n",
        "echo \"Video: $VID\"\n",
        "[ -n \"$VID\" ] && ffprobe -v error -show_streams -select_streams v:0 \"$VID\" | sed -n '1,50p' || echo 'No outputs found.'\n"
      ]
    },
    {
      "cell_type": "markdown",
      "metadata": {"id": "frames"},
      "source": [
        "## Optional: Extract frames for training\n",
        "Creates a frames dataset (`/content/data/frames/<video_stem>/*.jpg`) and a manifest at `/content/data/dataset.jsonl`."
      ]
    },
    {
      "cell_type": "code",
      "execution_count": null,
      "metadata": {"id": "extract-frames"},
      "outputs": [],
      "source": [
        "%%bash\n",
        "set -euo pipefail\n",
        "python scripts/prepare_dataset.py \\\n",
        "  --videos_dir '/content/data/videos_baseline' \\\n",
        "  --out_dir '/content/data/frames' \\\n",
        "  --fps 2 --size 384\n"
      ]
    },
    {
      "cell_type": "markdown",
      "metadata": {"id": "notes"},
      "source": [
        "## Notes\n",
        "- The preprocessing script uses H.264 (libx264), AAC audio (or `-an` if no audio), yuv420p, and `+faststart`.\n",
        "- Adjust `--target_height`, `--fps`, and `--crf` as needed.\n",
        "- If the `tools/` or `scripts/` paths are not found, ensure you opened this notebook from the project root or adjust paths accordingly."
      ]
    }
  ],
  "metadata": {
    "colab": {"name": "Colab Preprocessing Guide", "provenance": []},
    "kernelspec": {"name": "python3", "display_name": "Python 3"}
  },
  "nbformat": 4,
  "nbformat_minor": 5
}

